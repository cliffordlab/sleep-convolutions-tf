{
 "cells": [
  {
   "cell_type": "code",
   "execution_count": null,
   "metadata": {},
   "outputs": [],
   "source": [
    "from sys import path\n",
    "path.insert(0, '..')\n",
    "from trainer import model as M"
   ]
  },
  {
   "cell_type": "code",
   "execution_count": null,
   "metadata": {},
   "outputs": [],
   "source": [
    "DIR = '../logs/cross_val/augment_0.1/split_%i/'\n",
    "modelfile = DIR+'ckpt-%i.h5'\n",
    "checkpoint = DIR+'model.ckpt-%i'\n",
    "\n",
    "params = {\n",
    "    'balance-factor': 0.612,\n",
    "    'train-batch-size': 186,\n",
    "    'learning-rate': 0.0009,\n",
    "    'num-layers': 4,\n",
    "    'num-filters': 16,\n",
    "    'filt-factor': 0.244,\n",
    "    'kernel-size': 16,\n",
    "    'kernel-factor': 0.249,\n",
    "    'dropout': 0.065,\n",
    "    'pool-every-n': 1,\n",
    "    'pool-size': 3,\n",
    "    'kernel-size-end-pipe': 20,\n",
    "    'num-filters-end-pipe': 10,\n",
    "    'num-dense-end-pipe': 85,\n",
    "    'dropout-end-pipe': 0.157,\n",
    "    'batchnorm': 0,\n",
    "    'scale-init': 0.05,\n",
    "}\n",
    "for split in range(5):\n",
    "    ckpt = 7000\n",
    "    M.ckpt_to_keras(checkpoint%(split, ckpt), modelfile%(split, ckpt), **params)"
   ]
  }
 ],
 "metadata": {
  "kernelspec": {
   "display_name": "Python 3",
   "language": "python",
   "name": "python3"
  },
  "language_info": {
   "codemirror_mode": {
    "name": "ipython",
    "version": 3
   },
   "file_extension": ".py",
   "mimetype": "text/x-python",
   "name": "python",
   "nbconvert_exporter": "python",
   "pygments_lexer": "ipython3",
   "version": "3.6.3"
  }
 },
 "nbformat": 4,
 "nbformat_minor": 2
}
