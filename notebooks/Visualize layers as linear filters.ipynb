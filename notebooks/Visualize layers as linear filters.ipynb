{
 "cells": [
  {
   "cell_type": "code",
   "execution_count": null,
   "metadata": {},
   "outputs": [],
   "source": [
    "from sys import path\n",
    "path.insert(0, '..')\n",
    "import keras\n",
    "import numpy as np\n",
    "import tensorflow as tf\n",
    "import keras.backend as K\n",
    "from trainer import data as D\n",
    "from trainer import model as M\n",
    "import matplotlib.pyplot as plt"
   ]
  },
  {
   "cell_type": "code",
   "execution_count": null,
   "metadata": {},
   "outputs": [],
   "source": [
    "ckpt = 7000\n",
    "DIR = './../logs/cross_val/augment_0.4/split_0/'"
   ]
  },
  {
   "cell_type": "code",
   "execution_count": null,
   "metadata": {},
   "outputs": [],
   "source": [
    "modelfile = DIR+'ckpt-%i.h5'%ckpt\n",
    "model = keras.models.load_model(modelfile, custom_objects={'Scale': M.Scale})"
   ]
  },
  {
   "cell_type": "code",
   "execution_count": null,
   "metadata": {},
   "outputs": [],
   "source": [
    "num_samples, num_input_layers, num_filters = model.layers[4].get_weights()[1].shape\n",
    "num_samples, num_input_layers, num_filters"
   ]
  },
  {
   "cell_type": "code",
   "execution_count": null,
   "metadata": {},
   "outputs": [],
   "source": [
    "layer_weights = {\n",
    "    l.name: l.get_weights()\n",
    "    for l in model.layers\n",
    "}\n",
    "layer_to_channel = {\n",
    "    layer: channel\n",
    "    for layer, channel in zip(('sequential_1', 'sequential_2', 'sequential_3'), ('EEG', 'EOG', 'EMG'))\n",
    "}\n",
    "input_layer_selection = 0\n",
    "channel_weights = {\n",
    "    layer_to_channel[layer]: weight[1][:, input_layer_selection, :].transpose()\n",
    "    for layer, weight in layer_weights.items()\n",
    "    if layer in layer_to_channel\n",
    "}\n",
    "channel_weights['EEG'].shape, '= output_layer, #samples'"
   ]
  },
  {
   "cell_type": "code",
   "execution_count": null,
   "metadata": {},
   "outputs": [],
   "source": [
    "plt.figure(figsize=(15, 5))\n",
    "for i, (channel, weights) in enumerate(channel_weights.items()):\n",
    "    plt.subplot(131+i)\n",
    "    plt.title(channel)\n",
    "    plt.imshow(weights, interpolation='nearest', aspect='auto')\n",
    "    if i == 0:\n",
    "        plt.xlabel('time index', fontsize=15)\n",
    "        plt.ylabel('filter index', fontsize=15)\n",
    "plt.tight_layout()        \n",
    "plt.show()"
   ]
  },
  {
   "cell_type": "code",
   "execution_count": null,
   "metadata": {},
   "outputs": [],
   "source": [
    "plt.figure(figsize=(15, 5))\n",
    "for i, (channel, weights) in enumerate(channel_weights.items()):\n",
    "    plt.subplot(131+i)\n",
    "    plt.title(channel)\n",
    "    for f, fil in enumerate(weights):\n",
    "        plt.plot(fil-f*0.5, 'ko-')\n",
    "    if i == 0:\n",
    "        plt.xlabel('time index -->', fontsize=15)\n",
    "        plt.ylabel('<-- filter index', fontsize=15)\n",
    "plt.tight_layout()        \n",
    "plt.show()"
   ]
  },
  {
   "cell_type": "code",
   "execution_count": null,
   "metadata": {},
   "outputs": [],
   "source": [
    "plt.figure(figsize=(15, 5))\n",
    "for i, (channel, weights) in enumerate(channel_weights.items()):\n",
    "    plt.subplot(131+i)\n",
    "    plt.title(channel)\n",
    "    for f, fil in enumerate(weights):\n",
    "        plt.psd(fil, Fs=D.sr, NFFT=16)\n",
    "plt.tight_layout()        \n",
    "plt.show()"
   ]
  },
  {
   "cell_type": "code",
   "execution_count": null,
   "metadata": {},
   "outputs": [],
   "source": [
    "def plt_cov_mat(X, ax=None):\n",
    "    X -= X.mean(axis=1)[:, None]\n",
    "    X /= X.std(axis=1)[:, None]\n",
    "    cov = np.cov(X)\n",
    "#     for i in range(cov.shape[0]):\n",
    "#         cov[i, i] = 0.0\n",
    "    if ax is None:\n",
    "        plt.figure(figsize=(6, 6))\n",
    "        ax = plt.subplot(111)\n",
    "    plt.imshow(np.abs(cov), aspect='auto')\n",
    "    plt.clim(0, 0.8)\n",
    "    plt.colorbar()\n",
    "    return cov"
   ]
  },
  {
   "cell_type": "code",
   "execution_count": null,
   "metadata": {},
   "outputs": [],
   "source": [
    "plt.figure(figsize=(18, 6))\n",
    "for c, channel in enumerate(('EEG', 'EMG', 'EOG')):\n",
    "    ax = plt.subplot(131+c)\n",
    "    plt.title('channel %s'%channel)\n",
    "    X = plt_cov_mat(channel_weights[channel], ax=ax)\n",
    "plt.show()"
   ]
  },
  {
   "cell_type": "code",
   "execution_count": null,
   "metadata": {
    "scrolled": false
   },
   "outputs": [],
   "source": [
    "import scipy.signal\n",
    "\n",
    "for filt in channel_weights['EEG']:\n",
    "    f, Pxx = scipy.signal.welch(filt, fs=D.sr, nfft=filt.size)\n",
    "\n",
    "    t = np.arange(1024)/D.sr\n",
    "    test_signals = {\n",
    "        w: 0.25*np.sin(t*2*np.pi*w+2.*np.pi*np.random.rand())\n",
    "        for w in f\n",
    "    }\n",
    "    power = {\n",
    "        w: np.var(np.convolve(s, filt[::-1], mode='valid'), ddof=1)\n",
    "        for w, s in test_signals.items()\n",
    "    }\n",
    "    x, y = list(power.keys()), list(power.values())\n",
    "\n",
    "    plt.figure(figsize=(10, 3))\n",
    "    ax = plt.subplot(121)\n",
    "    plt.plot(np.arange(filt.size)/D.sr, filt, 'ko-')\n",
    "    plt.subplot(122)\n",
    "    plt.semilogy(x, y, 'ro-', alpha=0.5, label='test fun')\n",
    "    plt.semilogy(f, Pxx, 'ko-', label='filt fft')\n",
    "    plt.legend()\n",
    "    plt.tight_layout()\n",
    "    plt.ylim(10**-5, 10**1)\n",
    "plt.show()"
   ]
  }
 ],
 "metadata": {
  "kernelspec": {
   "display_name": "Python 3",
   "language": "python",
   "name": "python3"
  },
  "language_info": {
   "codemirror_mode": {
    "name": "ipython",
    "version": 3
   },
   "file_extension": ".py",
   "mimetype": "text/x-python",
   "name": "python",
   "nbconvert_exporter": "python",
   "pygments_lexer": "ipython3",
   "version": "3.6.3"
  }
 },
 "nbformat": 4,
 "nbformat_minor": 2
}
