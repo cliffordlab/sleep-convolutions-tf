{
 "cells": [
  {
   "cell_type": "code",
   "execution_count": null,
   "metadata": {
    "collapsed": true
   },
   "outputs": [],
   "source": [
    "from sys import path\n",
    "path.insert(0, '..')\n",
    "from os.path import exists\n",
    "import numpy as np\n",
    "import matplotlib.pyplot as plt\n",
    "import trainer.data as D\n",
    "import trainer.tools as tl"
   ]
  },
  {
   "cell_type": "code",
   "execution_count": null,
   "metadata": {
    "collapsed": true
   },
   "outputs": [],
   "source": [
    "def iter_data(X, Y):\n",
    "    num_channels, num_samples, len_seq = X.shape\n",
    "    for i in range(num_samples):\n",
    "        yield X[:, i, :], Y[i]\n",
    "\n",
    "def decode(xvec):\n",
    "    return D.decode(np.argmax(xvec))"
   ]
  },
  {
   "cell_type": "markdown",
   "metadata": {},
   "source": [
    "# Plot data"
   ]
  },
  {
   "cell_type": "markdown",
   "metadata": {},
   "source": [
    "Plot .tfrecords-file"
   ]
  },
  {
   "cell_type": "code",
   "execution_count": null,
   "metadata": {
    "collapsed": true
   },
   "outputs": [],
   "source": [
    "import glob\n",
    "import numpy as np\n",
    "tfrfiles = glob.glob('../datasets/tfrecords/*tfrecords')\n",
    "channels = D.channels\n",
    "fname = '../datasets/tfrecords/brux2.tfrecords'\n",
    "data = D.read_tfrecords(f=fname)\n",
    "target = data.pop('target')\n",
    "\n",
    "i = 0\n",
    "def iter_data_dict(data, target):\n",
    "    i = -1\n",
    "    while True:\n",
    "        i += 1\n",
    "        yield {c: d[i] for c, d in data.items()}, target[i]\n",
    "\n",
    "it = iter_data_dict(data, target)"
   ]
  },
  {
   "cell_type": "code",
   "execution_count": null,
   "metadata": {},
   "outputs": [],
   "source": [
    "x, y = next(it)\n",
    "fig = plt.figure(figsize=(20, 10))\n",
    "for c, (name, segment) in enumerate(x.items()):\n",
    "    plt.subplot(511+c)\n",
    "    if c == 0:\n",
    "        plt.title(f\"{decode(y)}   {fname}\")        \n",
    "    plt.plot(segment)\n",
    "    plt.ylabel(name)\n",
    "    plt.ylim(-100, 100)\n",
    "plt.tight_layout()\n",
    "plt.show()"
   ]
  },
  {
   "cell_type": "markdown",
   "metadata": {},
   "source": [
    "# Analysis of CNN"
   ]
  },
  {
   "cell_type": "markdown",
   "metadata": {},
   "source": [
    "## Load/save model as keras"
   ]
  },
  {
   "cell_type": "code",
   "execution_count": null,
   "metadata": {
    "collapsed": true
   },
   "outputs": [],
   "source": [
    "from trainer import model as M\n",
    "import numpy as np\n",
    "import trainer.data as D\n",
    "import matplotlib.pyplot as plt\n",
    "import keras\n",
    "\n",
    "\n",
    "augment = '0.4'\n",
    "split = 0\n",
    "ckpt = 7000\n",
    "DIR = '../logs/cross_val/augment_%s/split_%i/'%(augment, split)\n",
    "modelfile = DIR+'ckpt-%i.h5'%ckpt\n",
    "assert exists(modelfile), modelfile"
   ]
  },
  {
   "cell_type": "code",
   "execution_count": null,
   "metadata": {
    "collapsed": true
   },
   "outputs": [],
   "source": [
    "def plot_traces_and_surrogate_analysis(X, P, P_surrogates):\n",
    "    \"\"\"\n",
    "    Arguments:\n",
    "        X: Signals of surrogate data\n",
    "        P: Class Probabilities of epoch X\n",
    "        P_surrgates: Class probabilities of X with partial augmentation\n",
    "    \"\"\"\n",
    "    assert X.shape == (4, 960), X.shape\n",
    "    assert P.size == 6, P.shape \n",
    "    assert P_surrogates.shape == (96, 6), P_surrogates.shape \n",
    "    fig = plt.figure(figsize=(8, 5))\n",
    "    ax = None\n",
    "    t = np.arange(X.shape[1])/D.sr\n",
    "    for c, (channel, x) in enumerate(zip(D.channels, X)):\n",
    "        ax = plt.subplot2grid((6, 1), ( c, 0), sharex=ax)\n",
    "        plt.plot(t, x, 'r-', lw=1.0)\n",
    "        plt.ylabel(channel, fontsize=12)\n",
    "        plt.grid()\n",
    "        plt.setp(ax.get_yticklabels(), visible=False)\n",
    "        plt.setp(ax.get_xticklabels(), visible=False)\n",
    "    \n",
    "    plt.subplot2grid((6, 1), (4, 0), rowspan=2, sharex=ax)\n",
    "    t = np.arange(P_surrogates.shape[0])/D.sr*stride\n",
    "    plt.axhline(y=(np.max(P)), color='k', ls='--')\n",
    "    for i, stage in enumerate(D.events):\n",
    "        if stage not in ('S2', 'REM'):\n",
    "            continue\n",
    "        plt.semilogy(t, (P_surrogates[:, i]), lw=2.0, label=stage)\n",
    "    plt.legend(fontsize=12)\n",
    "    plt.grid()\n",
    "    plt.xlim(t[0], t[-1])\n",
    "    plt.ylim(-2, 1)#-1.5, 0.1)\n",
    "    plt.ylabel('log(P)', fontsize=12)\n",
    "    plt.yticks(fontsize=12)\n",
    "    plt.tight_layout()\n",
    "    plt.subplots_adjust(hspace=0.03)\n",
    "    plt.show()"
   ]
  },
  {
   "cell_type": "code",
   "execution_count": null,
   "metadata": {
    "collapsed": true
   },
   "outputs": [],
   "source": [
    "def read_records(filename='../datasets/tfrecords/ins2.tfrecords'):\n",
    "    record = D.read_tfrecords(filename)\n",
    "    features = {\n",
    "        tp: record[tp] for tp in D.channels\n",
    "    }\n",
    "    target = record['target']\n",
    "    one_hot = keras.utils.to_categorical(target, num_classes=6)\n",
    "    return features, target, one_hot"
   ]
  },
  {
   "cell_type": "markdown",
   "metadata": {},
   "source": [
    "Load keras model"
   ]
  },
  {
   "cell_type": "code",
   "execution_count": null,
   "metadata": {},
   "outputs": [],
   "source": [
    "model = keras.models.load_model(modelfile, custom_objects={'Scale': M.Scale})\n",
    "features, target, one_hot = read_records('../datasets/tfrecords/nfle12.tfrecords')\n",
    "# model.summary()\n",
    "proba = model.predict(features)\n",
    "y_pred = proba.argmax(axis=1)\n",
    "'acc', np.mean(target == y_pred)"
   ]
  },
  {
   "cell_type": "code",
   "execution_count": null,
   "metadata": {},
   "outputs": [],
   "source": [
    "epoch_num = 154\n",
    "X = [features[ch][epoch_num][None,:] for ch in D.channels]\n",
    "original = np.array([features[ch][epoch_num][None,:] for ch in D.channels])\n",
    "label = D.events[target[epoch_num]]\n",
    "P = proba[epoch_num]\n",
    "print('True label:', label)\n",
    "print()\n",
    "for stage, p in zip(D.events, P):\n",
    "    print(f\"P({stage}) = {100*p:.0f}%\")\n",
    "\n",
    "plt.figure(figsize=(20, 8))\n",
    "ax = None\n",
    "for c, channel in enumerate(D.channels):\n",
    "    ax = plt.subplot(411+c, sharex=ax)\n",
    "    plt.plot(X[c][0], 'k-', lw=1)\n",
    "    plt.ylabel(channel)\n",
    "    \n",
    "plt.tight_layout()\n",
    "plt.show()\n"
   ]
  },
  {
   "cell_type": "markdown",
   "metadata": {},
   "source": [
    "# Zero out part of the signal"
   ]
  },
  {
   "cell_type": "code",
   "execution_count": null,
   "metadata": {},
   "outputs": [],
   "source": [
    "def zero_out(X, stride=1, channels=None, width=2.5):\n",
    "    if not isinstance(width, int):\n",
    "        width = int(D.sr * width)\n",
    "    width2 = width//2\n",
    "    num_channels, num_samples = X.shape\n",
    "    if channels is None:\n",
    "        channels = slice(0, num_channels)\n",
    "    else:\n",
    "        channels = [D.channels.index(c) for c in channels]\n",
    "    \n",
    "    repeats = 1+num_samples//stride\n",
    "    Y = np.repeat(X, repeats).reshape(-1, repeats).transpose().reshape(\n",
    "        repeats, num_channels, -1)\n",
    "    for i, s in enumerate(range(0, num_samples, stride)):\n",
    "        s = slice(max(0, s-width2), min(num_samples-1, s+width2))\n",
    "        Y[i, channels, s] = 0.0\n",
    "    return Y.swapaxes(0, 1)\n",
    "\n",
    "X_rnd = np.random.randn(4, 1024)\n",
    "X_rnd = zero_out(X_rnd, stride=100, channels=['EEG1', 'EEG2'])\n",
    "\n",
    "for i, x in enumerate(X_rnd):\n",
    "    plt.subplot(411+i)\n",
    "    plt.plot(x[2])\n",
    "plt.tight_layout()    \n",
    "plt.show()"
   ]
  },
  {
   "cell_type": "code",
   "execution_count": null,
   "metadata": {
    "collapsed": true
   },
   "outputs": [],
   "source": [
    "stride = 10\n",
    "Xin = np.array([X[c][0] for c, _ in enumerate(D.channels)])\n",
    "Xcut = zero_out(Xin, stride=stride, width=5.0)\n",
    "P_cut = model.predict(list(Xcut))"
   ]
  },
  {
   "cell_type": "code",
   "execution_count": null,
   "metadata": {},
   "outputs": [],
   "source": [
    "print(f'True label: {label} (prediction {D.events[P.argmax()]})')"
   ]
  },
  {
   "cell_type": "code",
   "execution_count": null,
   "metadata": {},
   "outputs": [],
   "source": [
    "plot_traces_and_surrogate_analysis(np.asarray(X).squeeze(), P, P_cut[:96])"
   ]
  },
  {
   "cell_type": "markdown",
   "metadata": {},
   "source": [
    "## Replace part of signal with FFT-surrogate data"
   ]
  },
  {
   "cell_type": "code",
   "execution_count": null,
   "metadata": {},
   "outputs": [],
   "source": [
    "duration = 5.0 #sec\n",
    "start = 0.0 # sec\n",
    "end = start+duration # sec\n",
    "transition = 2.0 #sec\n",
    "x = X[0][0]\n",
    "t = np.arange(x.shape[0])/D.sr\n",
    "# xs = tl.partial_fft_surrogate_batch(x, 10, start, end, transition, sr=D.sr)\n",
    "xs = tl.partial_fft_surrogate(x, start, end, transition, sr=D.sr)\n",
    "c = tl.cut_and_glue(x, start, end, transition, sr=D.sr)\n",
    "plt.figure(figsize=(14, 6))\n",
    "ax = plt.subplot(211)\n",
    "plt.title(f'original signal with {xs.shape[0]} overlayed surrogates')\n",
    "plt.plot(t, x)\n",
    "for xi in xs:\n",
    "    plt.plot(t, xi, alpha=0.3)\n",
    "plt.axvline(x=start, color='k', alpha=.5)\n",
    "plt.axvline(x=end, color='k', alpha=.5)\n",
    "\n",
    "plt.subplot(212, sharex=ax)\n",
    "plt.title('cut-and-glued signal')\n",
    "plt.plot(np.arange(c.size)/D.sr, c)\n",
    "plt.show()"
   ]
  },
  {
   "cell_type": "code",
   "execution_count": null,
   "metadata": {},
   "outputs": [],
   "source": [
    "stride = 10\n",
    "P = proba[epoch_num]\n",
    "Xin = np.array([X[c][0] for c, _ in enumerate(D.channels)])\n",
    "surrogate_batches = tl.generate_partial_surrogate_batches(\n",
    "    Xin, batch_size=50, stride=stride, width=5.0, channels=['EEG1', 'EEG2'], transition=1.0, sr=D.sr)"
   ]
  },
  {
   "cell_type": "code",
   "execution_count": null,
   "metadata": {
    "collapsed": true
   },
   "outputs": [],
   "source": [
    "P_surrogates = np.array([\n",
    "    model.predict(list(batch)).mean(axis=0)\n",
    "    for batch in surrogate_batches\n",
    "])"
   ]
  },
  {
   "cell_type": "code",
   "execution_count": null,
   "metadata": {},
   "outputs": [],
   "source": [
    "plot_traces_and_surrogate_analysis(np.asarray(X).squeeze(), P, P_surrogates)"
   ]
  },
  {
   "cell_type": "code",
   "execution_count": null,
   "metadata": {
    "collapsed": true
   },
   "outputs": [],
   "source": []
  },
  {
   "cell_type": "code",
   "execution_count": null,
   "metadata": {
    "collapsed": true
   },
   "outputs": [],
   "source": []
  }
 ],
 "metadata": {
  "kernelspec": {
   "display_name": "Python 3",
   "language": "python",
   "name": "python3"
  },
  "language_info": {
   "codemirror_mode": {
    "name": "ipython",
    "version": 3
   },
   "file_extension": ".py",
   "mimetype": "text/x-python",
   "name": "python",
   "nbconvert_exporter": "python",
   "pygments_lexer": "ipython3",
   "version": "3.6.5"
  }
 },
 "nbformat": 4,
 "nbformat_minor": 2
}
