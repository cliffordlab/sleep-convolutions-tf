{
 "cells": [
  {
   "cell_type": "code",
   "execution_count": null,
   "metadata": {},
   "outputs": [],
   "source": [
    "from sys import path\n",
    "path.insert(0, '..')\n",
    "import matplotlib.pyplot as plt\n",
    "import os\n",
    "import itertools\n",
    "import numpy as np\n",
    "import pandas as pd\n",
    "import trainer.data as D\n",
    "import trainer.plotting as tp"
   ]
  },
  {
   "cell_type": "code",
   "execution_count": null,
   "metadata": {},
   "outputs": [],
   "source": [
    "meta = pd.read_csv('../datasets/meta/patient_info.csv')\n",
    "meta.pid = meta.pid.apply(lambda x: x.lower())"
   ]
  },
  {
   "cell_type": "code",
   "execution_count": null,
   "metadata": {},
   "outputs": [],
   "source": [
    "def ssum(X):\n",
    "    # Sum for lists\n",
    "    ssum = X[0]\n",
    "    for x in X[1:]:\n",
    "        ssum += x\n",
    "    return ssum\n",
    "\n",
    "age_group_boundaries = np.sort(list(set(ssum([\n",
    "    [int(x) for x in x.split('-')]\n",
    "    for x in D.age_group_bins.values()\n",
    "]))))\n",
    "\n",
    "plt.hist(meta.age, bins=15)\n",
    "for i, a in enumerate(age_group_boundaries):\n",
    "    plt.axvline(x=a, color='k', ls='--')\n",
    "    plt.text(a+4, 0.5, 'bin %i'%(i+1), color='w', fontsize=15)\n",
    "\n",
    "plt.ylabel('Number in bin')\n",
    "plt.xlabel('age (yrs)')\n",
    "plt.tight_layout()\n",
    "plt.show()"
   ]
  },
  {
   "cell_type": "code",
   "execution_count": null,
   "metadata": {},
   "outputs": [],
   "source": [
    "ag_conv = {k: i for i, k in enumerate(D.age_group_bins.keys())}\n",
    "meta['age_group_num'] = meta.age_group.apply(ag_conv.get)"
   ]
  },
  {
   "cell_type": "code",
   "execution_count": null,
   "metadata": {},
   "outputs": [],
   "source": [
    "def read_target(filename):\n",
    "    assert os.path.exists(filename), filename\n",
    "    record = D.TFRecordFile(filename)\n",
    "    return np.array(record.target)"
   ]
  },
  {
   "cell_type": "code",
   "execution_count": null,
   "metadata": {},
   "outputs": [],
   "source": [
    "dirname = '../datasets/tfrecords'\n",
    "df = pd.concat({\n",
    "    entry.pid: pd.DataFrame(read_target(os.path.join(dirname, entry.file)), columns=['stage_number'])\n",
    "    for _, entry in meta.iterrows()\n",
    "})\n",
    "df.index.names = ['pid', 'epoch']\n",
    "df = pd.DataFrame(df).reset_index()\n",
    "df['stage'] = df.stage_number.apply(D.decode)\n",
    "df = pd.merge(df, meta, on='pid')"
   ]
  },
  {
   "cell_type": "code",
   "execution_count": null,
   "metadata": {},
   "outputs": [],
   "source": [
    "# Count all events in each age bin\n",
    "counts = df.groupby('age_group').apply(lambda x: x.stage.value_counts())\n",
    "counts.index.names = ['age_group', 'stage']\n",
    "counts = counts.unstack('age_group')[list(D.age_group_bins.keys())].loc[D.events]\n",
    "\n",
    "# Add joined counts for all stages\n",
    "counts['all'] = df.stage.value_counts()\n",
    "counts = counts.transpose()\n",
    "counts['total'] = counts.transpose().sum()\n",
    "\n",
    "# normalize each stage per bin, and total by all\n",
    "for stage in D.events:\n",
    "    counts[stage] = counts[stage] / counts['total']\n",
    "counts['total'] = counts['total'] / counts['total']['all']\n",
    "\n",
    "# convert to percent\n",
    "counts = 100.0 * counts\n",
    "print(\"make sure that's in the right order!\")\n",
    "counts"
   ]
  },
  {
   "cell_type": "code",
   "execution_count": null,
   "metadata": {},
   "outputs": [],
   "source": [
    "cm = counts.values.transpose()\n",
    "cm[-1, -1] = 0.0"
   ]
  },
  {
   "cell_type": "code",
   "execution_count": null,
   "metadata": {},
   "outputs": [],
   "source": [
    "ylabels = ['Wake', 'S1', 'S2', 'S3', 'S4', 'REM']\n",
    "ylabels.append('Total')\n",
    "\n",
    "plt.figure(figsize=(9, 8))\n",
    "plt.imshow(cm, interpolation='nearest', cmap=tp.colorscheme['frequency'])\n",
    "# plt.title(title)\n",
    "# plt.colorbar()\n",
    "xtick_marks = np.arange(len(ylabels))\n",
    "ytick_marks = np.arange(len(D.age_group_bins)+1)\n",
    "plt.yticks(xtick_marks, ylabels, rotation=45, fontsize=13)\n",
    "plt.xticks(ytick_marks, list(D.age_group_bins.values())+['all'], fontsize=13)\n",
    "\n",
    "fmt = 'd'\n",
    "thresh = cm.max() / 2.\n",
    "for i, j in itertools.product(range(cm.shape[0]), range(cm.shape[1])):\n",
    "    if i==cm.shape[0]-1 and j==cm.shape[1]-1:\n",
    "        continue\n",
    "    else:\n",
    "        plt.text(j, i, '{}%'.format(int(cm[i,j])),\n",
    "            color=\"white\" if cm[i, j] > thresh else \"black\",\n",
    "            ha='center', fontsize=12)\n",
    "\n",
    "\n",
    "plt.axhline(y=len(ylabels)-1.5, color='k', lw=2.)\n",
    "plt.axvline(x=len(D.age_group_bins)-0.5, color='k', lw=2.)\n",
    "        \n",
    "plt.xlabel('Age group  (yrs)', fontsize=13)\n",
    "plt.tight_layout()\n",
    "plt.show()"
   ]
  }
 ],
 "metadata": {
  "kernelspec": {
   "display_name": "Python 3",
   "language": "python",
   "name": "python3"
  },
  "language_info": {
   "codemirror_mode": {
    "name": "ipython",
    "version": 3
   },
   "file_extension": ".py",
   "mimetype": "text/x-python",
   "name": "python",
   "nbconvert_exporter": "python",
   "pygments_lexer": "ipython3",
   "version": "3.6.3"
  }
 },
 "nbformat": 4,
 "nbformat_minor": 2
}
